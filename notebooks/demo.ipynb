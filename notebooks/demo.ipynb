{
 "cells": [
  {
   "cell_type": "markdown",
   "metadata": {},
   "source": [
    "# DEMO\n",
    "## Illustrating MIA Attack on SNNs and ANNs"
   ]
  },
  {
   "cell_type": "code",
   "execution_count": 1,
   "metadata": {},
   "outputs": [
    {
     "ename": "ModuleNotFoundError",
     "evalue": "No module named 'torch'",
     "output_type": "error",
     "traceback": [
      "\u001b[1;31m---------------------------------------------------------------------------\u001b[0m",
      "\u001b[1;31mModuleNotFoundError\u001b[0m                       Traceback (most recent call last)",
      "Cell \u001b[1;32mIn[1], line 2\u001b[0m\n\u001b[0;32m      1\u001b[0m \u001b[38;5;28;01mimport\u001b[39;00m\u001b[38;5;250m \u001b[39m\u001b[38;5;21;01msys\u001b[39;00m\n\u001b[1;32m----> 2\u001b[0m \u001b[38;5;28;01mimport\u001b[39;00m\u001b[38;5;250m \u001b[39m\u001b[38;5;21;01mtorch\u001b[39;00m\n\u001b[0;32m      3\u001b[0m \u001b[38;5;28;01mimport\u001b[39;00m\u001b[38;5;250m \u001b[39m\u001b[38;5;21;01mpickle\u001b[39;00m\n\u001b[0;32m      4\u001b[0m \u001b[38;5;28;01mimport\u001b[39;00m\u001b[38;5;250m \u001b[39m\u001b[38;5;21;01mnumpy\u001b[39;00m\u001b[38;5;250m \u001b[39m\u001b[38;5;28;01mas\u001b[39;00m\u001b[38;5;250m \u001b[39m\u001b[38;5;21;01mnp\u001b[39;00m\n",
      "\u001b[1;31mModuleNotFoundError\u001b[0m: No module named 'torch'"
     ]
    }
   ],
   "source": [
    "import sys\n",
    "import torch\n",
    "import pickle\n",
    "import numpy as np\n",
    "\n",
    "sys.path.append(\"../\")\n",
    "from utils import *\n",
    "from torch.utils.data import Subset\n",
    "from Preprocess import get_dataloader_from_dataset, load_dataset\n",
    "from Attacks.utils import *\n",
    "from Attacks import *\n",
    "\n",
    "import warnings\n",
    "warnings.filterwarnings(\"ignore\")\n",
    "\n"
   ]
  },
  {
   "cell_type": "markdown",
   "metadata": {},
   "source": [
    "## Initialize Experiment Configuration"
   ]
  },
  {
   "cell_type": "code",
   "execution_count": 2,
   "metadata": {},
   "outputs": [
    {
     "ename": "NameError",
     "evalue": "name 'torch' is not defined",
     "output_type": "error",
     "traceback": [
      "\u001b[1;31m---------------------------------------------------------------------------\u001b[0m",
      "\u001b[1;31mNameError\u001b[0m                                 Traceback (most recent call last)",
      "Cell \u001b[1;32mIn[2], line 23\u001b[0m\n\u001b[0;32m     21\u001b[0m \u001b[38;5;66;03m# general variables\u001b[39;00m\n\u001b[0;32m     22\u001b[0m batch_size \u001b[38;5;241m=\u001b[39m \u001b[38;5;241m64\u001b[39m\n\u001b[1;32m---> 23\u001b[0m \u001b[43mtorch\u001b[49m\u001b[38;5;241m.\u001b[39mcuda\u001b[38;5;241m.\u001b[39mempty_cache()\n\u001b[0;32m     24\u001b[0m device \u001b[38;5;241m=\u001b[39m torch\u001b[38;5;241m.\u001b[39mdevice(\u001b[38;5;124m'\u001b[39m\u001b[38;5;124mcuda\u001b[39m\u001b[38;5;124m'\u001b[39m \u001b[38;5;28;01mif\u001b[39;00m torch\u001b[38;5;241m.\u001b[39mcuda\u001b[38;5;241m.\u001b[39mis_available() \u001b[38;5;28;01melse\u001b[39;00m \u001b[38;5;124m'\u001b[39m\u001b[38;5;124mcpu\u001b[39m\u001b[38;5;124m'\u001b[39m)\n",
      "\u001b[1;31mNameError\u001b[0m: name 'torch' is not defined"
     ]
    }
   ],
   "source": [
    "ATTACK_TYPE = \"rmia\" # [\"attack_p\", \"attack_r\", \"rmia\"]\n",
    "DATASET_NAME = \"cifar100\" # [\"cifar10\", \"cifar100\", \"imagenette\", \"imagewoof\"]\n",
    "# VGG16 is not trained for imagenet based datasets\n",
    "MODEL_NAME = \"resnet18\" # [\"vgg16\", \"resnet18\", \"resnet34\"]\n",
    "#MODEL_TYPE = \"ann\" # [\"ann\", \"snn\"]\n",
    "MODEL_TYPE = {\n",
    "    \"model_0\": \"ann\", \n",
    "    \"model_1\": \"ann\",\n",
    "    \"model_2\": \"ann\",\n",
    "    \"model_3\": \"ann\",\n",
    "    \"model_4\": \"ann\"\n",
    "}\n",
    "# If model type is ann then n_steps has no significance\n",
    "N_STEPS = 1\n",
    "CHECKPOINT = './saved_models'\n",
    "REFERENCE_MODELS = 4\n",
    "CALIBRATION = False\n",
    "# If calibration is False then dropout and n_samples are not considered\n",
    "DROPOUT = 0.01 \n",
    "N_SAMPLES = 10\n",
    "# general variables\n",
    "batch_size = 64\n",
    "torch.cuda.empty_cache()\n",
    "device = torch.device('cuda' if torch.cuda.is_available() else 'cpu')"
   ]
  },
  {
   "cell_type": "markdown",
   "metadata": {},
   "source": [
    "## Initializing relevant libraries"
   ]
  },
  {
   "cell_type": "code",
   "execution_count": 2,
   "metadata": {},
   "outputs": [],
   "source": [
    "# Creating directory to save trained models and their logs\n",
    "primary_model_path = os.path.join(CHECKPOINT, DATASET_NAME, MODEL_NAME, f\"ref_models_{REFERENCE_MODELS}\")"
   ]
  },
  {
   "cell_type": "markdown",
   "metadata": {},
   "source": [
    "## Data Prep"
   ]
  },
  {
   "cell_type": "markdown",
   "metadata": {},
   "source": [
    "#### Load Dataset"
   ]
  },
  {
   "cell_type": "code",
   "execution_count": null,
   "metadata": {},
   "outputs": [],
   "source": [
    "dataset = load_dataset(DATASET_NAME, logger)\n",
    "try:\n",
    "    data_split_file = os.path.join(primary_model_path, \"data_splits.pkl\")\n",
    "    with open(data_split_file, 'rb') as file:\n",
    "        data_split_info = pickle.load(file)\n",
    "    print(\"Data split information successfully loaded:\")\n",
    "except FileNotFoundError:\n",
    "    print(f\"Error: The file '{data_split_file}' does not exist\")\n",
    "# Creating dataloader\n",
    "train_idxs = data_split_info[0][\"train\"]\n",
    "test_idxs = data_split_info[0][\"test\"]\n",
    "print(f\"Dataset Specs : Train size {len(train_idxs)}, Test size {len(test_idxs)}\")"
   ]
  },
  {
   "cell_type": "markdown",
   "metadata": {},
   "source": [
    "#### Creating Dataloader"
   ]
  },
  {
   "cell_type": "code",
   "execution_count": null,
   "metadata": {},
   "outputs": [],
   "source": [
    "data_loader = get_dataloader_from_dataset(\n",
    "    DATASET_NAME, \n",
    "    Subset(dataset, np.concatenate((train_idxs, test_idxs), axis=0)), \n",
    "    batch_size=batch_size, \n",
    "    train=False\n",
    ")"
   ]
  },
  {
   "cell_type": "markdown",
   "metadata": {},
   "source": [
    "## Load Model"
   ]
  },
  {
   "cell_type": "code",
   "execution_count": null,
   "metadata": {},
   "outputs": [],
   "source": [
    "target_model, reference_models = load_model(\n",
    "    MODEL_NAME, DATASET_NAME, MODEL_TYPE, REFERENCE_MODELS, primary_model_path, device, N_STEPS\n",
    ")"
   ]
  },
  {
   "cell_type": "markdown",
   "metadata": {},
   "source": [
    "## Perform Attack"
   ]
  },
  {
   "cell_type": "markdown",
   "metadata": {},
   "source": [
    "#### Initiliaze attack"
   ]
  },
  {
   "cell_type": "code",
   "execution_count": null,
   "metadata": {},
   "outputs": [],
   "source": [
    "attack = perform_MIA(\n",
    "            attack_type = ATTACK_TYPE, \n",
    "            model_type = MODEL_TYPE,\n",
    "            target_model = target_model, \n",
    "            reference_models = reference_models, \n",
    "            data_loader = data_loader, \n",
    "            device = device,\n",
    "            n_steps = N_STEPS,\n",
    "            calibration = CALIBRATION,\n",
    "            dropout = DROPOUT,\n",
    "            n_samples = N_SAMPLES,\n",
    "        )"
   ]
  },
  {
   "cell_type": "markdown",
   "metadata": {},
   "source": [
    "#### Get Results"
   ]
  },
  {
   "cell_type": "code",
   "execution_count": null,
   "metadata": {},
   "outputs": [],
   "source": [
    "attack.compute_scores()\n",
    "scores = attack.scores\n",
    "attack.get_results()\n",
    "results = attack.results"
   ]
  },
  {
   "cell_type": "markdown",
   "metadata": {},
   "source": [
    "### Visualize"
   ]
  },
  {
   "cell_type": "markdown",
   "metadata": {},
   "source": [
    "##### ROC Curve"
   ]
  },
  {
   "cell_type": "code",
   "execution_count": null,
   "metadata": {},
   "outputs": [],
   "source": [
    "plot_auc(results)"
   ]
  },
  {
   "cell_type": "markdown",
   "metadata": {},
   "source": [
    "#### Distribution of MIA Scores"
   ]
  },
  {
   "cell_type": "code",
   "execution_count": null,
   "metadata": {},
   "outputs": [],
   "source": [
    "plot_histogram(scores)"
   ]
  }
 ],
 "metadata": {
  "kernelspec": {
   "display_name": "base",
   "language": "python",
   "name": "python3"
  },
  "language_info": {
   "codemirror_mode": {
    "name": "ipython",
    "version": 3
   },
   "file_extension": ".py",
   "mimetype": "text/x-python",
   "name": "python",
   "nbconvert_exporter": "python",
   "pygments_lexer": "ipython3",
   "version": "3.12.3"
  }
 },
 "nbformat": 4,
 "nbformat_minor": 2
}
