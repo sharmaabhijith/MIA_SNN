{
 "cells": [
  {
   "cell_type": "markdown",
   "metadata": {},
   "source": [
    "# DEMO\n",
    "## Illustrating MIA Attack on SNNs and ANNs"
   ]
  },
  {
   "cell_type": "code",
   "execution_count": null,
   "metadata": {},
   "outputs": [],
   "source": [
    "import sys\n",
    "import torch\n",
    "import pickle\n",
    "import numpy as np\n",
    "\n",
    "sys.path.append(\"../\")\n",
    "from utils import *\n",
    "from torch.utils.data import Subset\n",
    "from Preprocess import get_dataloader_from_dataset, load_dataset\n",
    "from Attacks.utils import *\n",
    "from Attacks import *\n",
    "\n",
    "import warnings\n",
    "warnings.filterwarnings(\"ignore\")\n",
    "\n"
   ]
  },
  {
   "cell_type": "markdown",
   "metadata": {},
   "source": [
    "### Initialize Experiment Configuration"
   ]
  },
  {
   "cell_type": "code",
   "execution_count": null,
   "metadata": {},
   "outputs": [],
   "source": [
    "ATTACK_TYPE = \"rmia\" # [\"attack_p\", \"attack_r\", \"rmia\"]\n",
    "DATASET_NAME = \"cifar10\" # [\"cifar10\", \"cifar100\", \"imagenette\", \"imagewoof\"]\n",
    "# VGG16 is not trained for imagenet based datasets\n",
    "MODEL_NAME = \"vgg16\" # [\"vgg16\", \"resnet18\", \"resnet34\"]\n",
    "MODEL_TYPE = \"ann\" # [\"ann\", \"snn\"]\n",
    "# If model type is ann then n_steps has no significance\n",
    "N_STEPS = 1\n",
    "CHECKPOINT = './saved_models'\n",
    "REFERENCE_MODELS = 4\n",
    "CALIBRATION = False\n",
    "# If calibration is False then dropout and n_samples are not considered\n",
    "DROPOUT = 0.01 \n",
    "N_SAMPLES = 10\n",
    "# general variables\n",
    "batch_size = 64\n",
    "torch.cuda.empty_cache()\n",
    "device = torch.device('cuda' if torch.cuda.is_available() else 'cpu')"
   ]
  },
  {
   "cell_type": "markdown",
   "metadata": {},
   "source": [
    "### Initializing relevant libraries"
   ]
  },
  {
   "cell_type": "code",
   "execution_count": 2,
   "metadata": {},
   "outputs": [],
   "source": [
    "# Creating directory to save trained models and their logs\n",
    "primary_model_path = os.path.join(CHECKPOINT, DATASET_NAME, MODEL_NAME, f\"ref_models_{REFERENCE_MODELS}\")"
   ]
  },
  {
   "cell_type": "markdown",
   "metadata": {},
   "source": [
    "### Load Dataset"
   ]
  },
  {
   "cell_type": "code",
   "execution_count": null,
   "metadata": {},
   "outputs": [],
   "source": [
    "dataset = load_dataset(DATASET_NAME, logger)\n",
    "try:\n",
    "    data_split_file = os.path.join(primary_model_path, \"data_splits.pkl\")\n",
    "    with open(data_split_file, 'rb') as file:\n",
    "        data_split_info = pickle.load(file)\n",
    "    print(\"Data split information successfully loaded:\")\n",
    "except FileNotFoundError:\n",
    "    print(f\"Error: The file '{data_split_file}' does not exist\")\n",
    "# Creating dataloader\n",
    "train_idxs = data_split_info[0][\"train\"]\n",
    "test_idxs = data_split_info[0][\"test\"]\n",
    "print(f\"Dataset Specs : Train size {len(train_idxs)}, Test size {len(test_idxs)}\")"
   ]
  },
  {
   "cell_type": "markdown",
   "metadata": {},
   "source": [
    "### Creating Dataloader"
   ]
  },
  {
   "cell_type": "code",
   "execution_count": null,
   "metadata": {},
   "outputs": [],
   "source": [
    "data_loader = get_dataloader_from_dataset(\n",
    "    DATASET_NAME, \n",
    "    Subset(dataset, np.concatenate((train_idxs, test_idxs), axis=0)), \n",
    "    batch_size=batch_size, \n",
    "    train=False\n",
    ")"
   ]
  },
  {
   "cell_type": "markdown",
   "metadata": {},
   "source": [
    "### Load Model"
   ]
  },
  {
   "cell_type": "code",
   "execution_count": null,
   "metadata": {},
   "outputs": [],
   "source": [
    "target_model, reference_models = load_model(\n",
    "    MODEL_NAME, DATASET_NAME, MODEL_TYPE, REFERENCE_MODELS, primary_model_path, device, N_STEPS\n",
    ")"
   ]
  },
  {
   "cell_type": "markdown",
   "metadata": {},
   "source": [
    "### Perform Attack"
   ]
  },
  {
   "cell_type": "code",
   "execution_count": null,
   "metadata": {},
   "outputs": [],
   "source": [
    "attack = perform_MIA(\n",
    "            attack_type = ATTACK_TYPE, \n",
    "            model_type = MODEL_TYPE,\n",
    "            target_model = target_model, \n",
    "            reference_models = reference_models, \n",
    "            data_loader = data_loader, \n",
    "            device = device,\n",
    "            n_steps = N_STEPS,\n",
    "            calibration = CALIBRATION,\n",
    "            dropout = DROPOUT,\n",
    "            n_samples = N_SAMPLES,\n",
    "        )\n",
    "attack.compute_scores()"
   ]
  },
  {
   "cell_type": "markdown",
   "metadata": {},
   "source": [
    "#### Get Results"
   ]
  },
  {
   "cell_type": "code",
   "execution_count": null,
   "metadata": {},
   "outputs": [],
   "source": [
    "results = attack.get_results()\n",
    "results"
   ]
  }
 ],
 "metadata": {
  "kernelspec": {
   "display_name": "miasnn",
   "language": "python",
   "name": "python3"
  },
  "language_info": {
   "codemirror_mode": {
    "name": "ipython",
    "version": 3
   },
   "file_extension": ".py",
   "mimetype": "text/x-python",
   "name": "python",
   "nbconvert_exporter": "python",
   "pygments_lexer": "ipython3",
   "version": "3.13.1"
  }
 },
 "nbformat": 4,
 "nbformat_minor": 2
}
